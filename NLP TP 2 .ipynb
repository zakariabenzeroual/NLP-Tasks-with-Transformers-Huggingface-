{
 "cells": [
  {
   "cell_type": "markdown",
   "id": "337e7250",
   "metadata": {},
   "source": [
    "# NLP Tasks with Transformers (Huggingface)\n",
    "\n",
    "## • Sentiment analysis\n",
    "## • Text generation\n",
    "## • Name entity recognition (NER)\n",
    "## • Question answering\n",
    "## • Filling masked text\n",
    "## • Summarization\n",
    "## • Translation\n",
    "## • Feature extraction"
   ]
  },
  {
   "cell_type": "markdown",
   "id": "a0bbce69",
   "metadata": {},
   "source": []
  },
  {
   "cell_type": "markdown",
   "id": "e6864052",
   "metadata": {},
   "source": [
    "### • Sentiment analysis : "
   ]
  },
  {
   "cell_type": "code",
   "execution_count": 4,
   "id": "72783667",
   "metadata": {},
   "outputs": [
    {
     "name": "stdout",
     "output_type": "stream",
     "text": [
      "label: 1 star, with score: 0.6346\n",
      "label: 5 stars, with score: 0.8547\n",
      "label: 5 stars, with score: 0.4693\n",
      "label: 1 star, with score: 0.4572\n"
     ]
    }
   ],
   "source": [
    "from transformers import pipeline\n",
    "\n",
    "# I use model \"nlptown/bert-base-multilingual-uncased-sentiment\" for sentiment analysis on \n",
    "# product reviews in six languages: English, Dutch, German, French, Spanish and Italian. \n",
    "# It predicts the sentiment of the review as a number of stars (between 1 and 5).\n",
    "\n",
    "Sentiment_analysis = pipeline(\"sentiment-analysis\",model=\"nlptown/bert-base-multilingual-uncased-sentiment\")\n",
    "\n",
    "result_ENG = Sentiment_analysis(\"I hate you\")[0]\n",
    "print(f\"label: {result_ENG['label']}, with score: {round(result_ENG['score'], 4)}\")\n",
    "\n",
    "result_ENG = Sentiment_analysis(\"I love you\")[0]\n",
    "print(f\"label: {result_ENG['label']}, with score: {round(result_ENG['score'], 4)}\")\n",
    "\n",
    "result_FR = Sentiment_analysis(\"je te aime maman\")[0]\n",
    "print(f\"label: {result_FR['label']}, with score: {round(result_FR['score'], 4)}\")\n",
    "\n",
    "result_FR = Sentiment_analysis(\"je te déteste\")[0]\n",
    "print(f\"label: {result_FR['label']}, with score: {round(result_FR['score'], 4)}\")\n",
    "\n",
    "\n"
   ]
  },
  {
   "cell_type": "markdown",
   "id": "d9d42079",
   "metadata": {},
   "source": [
    "### • Text generation :"
   ]
  },
  {
   "cell_type": "code",
   "execution_count": 7,
   "id": "63cbcc03",
   "metadata": {},
   "outputs": [
    {
     "name": "stdout",
     "output_type": "stream",
     "text": [
      "[{'generated_text': \"i'm okay but i don't know what to do with this. I don't know what to do with this. I don't know what to do with this. I don't know what to do with this\"}]\n"
     ]
    },
    {
     "name": "stderr",
     "output_type": "stream",
     "text": [
      "Setting `pad_token_id` to `eos_token_id`:2 for open-end generation.\n"
     ]
    },
    {
     "name": "stdout",
     "output_type": "stream",
     "text": [
      "[{'generated_text': 'كيف يكون هناك بعض المقالات التي لم تعجبني\"\\n\"كتاب خفيف . خفيف . خفيف . . . . . . . . . . . . . . . . . . . . . . . . . . . . . . . . .'}]\n"
     ]
    }
   ],
   "source": [
    "from transformers import pipeline\n",
    "\n",
    "#Text English : \n",
    "\n",
    "text_generator_ENG = pipeline(\"text-generation\",model=\"xlnet-base-cased\")\n",
    "print(text_generator_ENG(\"i'm okay but\", max_length=50, do_sample=False))\n",
    "\n",
    "#Text Arabic : \n",
    "\n",
    "text_generator_AR = pipeline(\"text-generation\",model=\"mofawzy/gpt2-arabic-sentence-generator\")\n",
    "print(text_generator_AR(\"كيف\", max_length=50, do_sample=False))\n"
   ]
  },
  {
   "cell_type": "markdown",
   "id": "2c7064a5",
   "metadata": {},
   "source": [
    "### • Name entity recognition (NER) :"
   ]
  },
  {
   "cell_type": "code",
   "execution_count": 14,
   "id": "25516e4d",
   "metadata": {},
   "outputs": [
    {
     "name": "stdout",
     "output_type": "stream",
     "text": [
      "Name entity recognition NER (English) :\n",
      "\n",
      "[('[CLS]', 'O'), ('My', 'O'), ('name', 'O'), ('is', 'O'), ('Mohamed', 'I-PER'), ('and', 'O'), ('I', 'O'), ('live', 'O'), ('in', 'O'), ('Berlin', 'I-LOC'), ('.', 'O'), ('[SEP]', 'O')]\n",
      "\n",
      " Name entity recognition NER (Arabic) :\n",
      "\n",
      "[('[CLS]', '6'), ('[UNK]', '6'), ('محمد', '0'), ('[UNK]', 'B-PERSON'), ('في', '6'), ('برلين', '2'), ('[SEP]', '6')]\n"
     ]
    }
   ],
   "source": [
    "from transformers import AutoModelForTokenClassification, AutoTokenizer\n",
    "import torch \n",
    "\n",
    "\n",
    "# 1 - Name entity recognition NER (English) :\n",
    "\n",
    "model = AutoModelForTokenClassification.from_pretrained(\"dbmdz/bert-large-cased-finetuned-conll03-english\")\n",
    "tokenizer = AutoTokenizer.from_pretrained(\"bert-base-cased\")\n",
    "\n",
    "label_list = [\n",
    "        \"O\",       # Outside of a named entity\n",
    "        \"B-MISC\",  # Beginning of a miscellaneous entity right after another miscellaneous entity\n",
    "        \"I-MISC\",  # Miscellaneous entity\n",
    "        \"B-PER\",   # Beginning of a person's name right after another person's name\n",
    "        \"I-PER\",   # Person's name\n",
    "        \"B-ORG\",   # Beginning of an organisation right after another organisation\n",
    "        \"I-ORG\",   # Organisation\n",
    "        \"B-LOC\",   # Beginning of a location right after another location\n",
    "        \"I-LOC\"    # Location\n",
    " ]\n",
    "\n",
    "sequence = \"My name is Mohamed and I live in Berlin.\"\n",
    "\n",
    "# Bit of a hack to get the tokens with the special tokens\n",
    "\n",
    "tokens = tokenizer.tokenize(tokenizer.decode(tokenizer.encode(sequence)))\n",
    "inputs = tokenizer.encode(sequence, return_tensors=\"pt\")\n",
    "\n",
    "outputs = model(inputs).logits\n",
    "predictions = torch.argmax(outputs, dim=2)\n",
    "\n",
    "print(\"\"\"Name entity recognition NER (English) :\\n\"\"\")\n",
    "print([(token, label_list[prediction]) for token, prediction in zip(tokens, predictions[0].numpy())])\n",
    "\n",
    "# 2 - Name entity recognition NER (Arabic) :\n",
    " \n",
    "model = AutoModelForTokenClassification.from_pretrained(\"hatmimoha/arabic-ner\")\n",
    "tokenizer = AutoTokenizer.from_pretrained(\"hatmimoha/arabic-ner\")\n",
    "\n",
    "label_list = [\n",
    "    \"0\", \"B-PERSON\",\n",
    "    \"1\", \"I-PERSON\",\n",
    "    \"2\", \"B-ORGANIZATION\",\n",
    "    \"3\", \"I-ORGANIZATION\",\n",
    "    \"4\", \"B-LOCATION\",\n",
    "    \"5\", \"I-LOCATION\",\n",
    "    \"6\", \"B-DATE\",\n",
    "    \"7\", \"I-DATE\",\n",
    "    \"8\", \"B-COMPETITION\",\n",
    "    \"9\", \"I-COMPETITION\",\n",
    "    \"10\", \"B-PRIZE\",\n",
    "    \"11\", \"I-PRIZE\",\n",
    "    \"12\", \"O\",\n",
    "    \"13\", \"B-PRODUCT\",\n",
    "    \"14\", \"I-PRODUCT\",\n",
    "    \"15\", \"B-EVENT\",\n",
    "    \"16\", \"I-EVENT\",\n",
    "    \"17\", \"B-DISEASE\",\n",
    "    \"18\", \"I-DISEASE\",\n",
    " ]\n",
    "\n",
    "sequence = \"إسمي محمد وأسكن في برلين\"\n",
    "\n",
    "# Bit of a hack to get the tokens with the special tokens\n",
    "\n",
    "tokens = tokenizer.tokenize(tokenizer.decode(tokenizer.encode(sequence)))\n",
    "inputs = tokenizer.encode(sequence, return_tensors=\"pt\")\n",
    "\n",
    "outputs = model(inputs).logits\n",
    "predictions = torch.argmax(outputs, dim=2)\n",
    "\n",
    "print(\"\"\"\\n Name entity recognition NER (Arabic) :\\n\"\"\")\n",
    "print([(token, label_list[prediction]) for token, prediction in zip(tokens, predictions[0].numpy())])"
   ]
  },
  {
   "cell_type": "markdown",
   "id": "0f81d7e9",
   "metadata": {},
   "source": [
    "### • Question answering :"
   ]
  },
  {
   "cell_type": "code",
   "execution_count": 16,
   "id": "47a6020d",
   "metadata": {},
   "outputs": [
    {
     "name": "stdout",
     "output_type": "stream",
     "text": [
      "Answer: 'the task of extracting an answer from a text given a question', score: 0.6226, start: 34, end: 95\n",
      "Answer: 'SQuAD dataset', score: 0.5053, start: 147, end: 160\n"
     ]
    }
   ],
   "source": [
    "from transformers import pipeline\n",
    "\n",
    "Question_answering = pipeline(\"question-answering\")\n",
    "\n",
    "context = r\"\"\" Extractive Question Answering is the task of extracting an answer from a text given a question. An example of a\n",
    "question answering dataset is the SQuAD dataset, which is entirely based on that task. If you would like to fine-tune\n",
    "a model on a SQuAD task, you may leverage the examples/question-answering/run_squad.py script.\"\"\"\n",
    "\n",
    "result = Question_answering(question=\"What is extractive question answering?\", context=context)\n",
    "print(f\"Answer: '{result['answer']}', score: {round(result['score'], 4)}, start: {result['start']}, end: {result['end']}\")\n",
    "\n",
    "result2 = Question_answering(question=\"What is a good example of a question answering dataset?\", context=context)\n",
    "print(f\"Answer: '{result2['answer']}', score: {round(result2['score'], 4)}, start: {result2['start']}, end: {result2['end']}\")\n"
   ]
  },
  {
   "cell_type": "markdown",
   "id": "d187041b",
   "metadata": {},
   "source": [
    "### • Filling masked text :"
   ]
  },
  {
   "cell_type": "code",
   "execution_count": 8,
   "id": "3392d407",
   "metadata": {},
   "outputs": [
    {
     "data": {
      "application/vnd.jupyter.widget-view+json": {
       "model_id": "ef7c2e6a8aa4479abb4e0c48e15f6c7e",
       "version_major": 2,
       "version_minor": 0
      },
      "text/plain": [
       "Downloading:   0%|          | 0.00/29.0 [00:00<?, ?B/s]"
      ]
     },
     "metadata": {},
     "output_type": "display_data"
    },
    {
     "data": {
      "application/vnd.jupyter.widget-view+json": {
       "model_id": "1a4897b1ff494813a11fe5fbbe23cc6b",
       "version_major": 2,
       "version_minor": 0
      },
      "text/plain": [
       "Downloading:   0%|          | 0.00/411 [00:00<?, ?B/s]"
      ]
     },
     "metadata": {},
     "output_type": "display_data"
    },
    {
     "data": {
      "application/vnd.jupyter.widget-view+json": {
       "model_id": "f9549cb3353b423987cb2a1b79249fd0",
       "version_major": 2,
       "version_minor": 0
      },
      "text/plain": [
       "Downloading:   0%|          | 0.00/213k [00:00<?, ?B/s]"
      ]
     },
     "metadata": {},
     "output_type": "display_data"
    },
    {
     "data": {
      "application/vnd.jupyter.widget-view+json": {
       "model_id": "32f935066864413f89d9845fa26ae4ec",
       "version_major": 2,
       "version_minor": 0
      },
      "text/plain": [
       "Downloading:   0%|          | 0.00/436k [00:00<?, ?B/s]"
      ]
     },
     "metadata": {},
     "output_type": "display_data"
    },
    {
     "name": "stderr",
     "output_type": "stream",
     "text": [
      "c:\\users\\zakaria\\appdata\\local\\programs\\python\\python39\\lib\\site-packages\\transformers\\models\\auto\\modeling_auto.py:843: FutureWarning: The class `AutoModelWithLMHead` is deprecated and will be removed in a future version. Please use `AutoModelForCausalLM` for causal language models, `AutoModelForMaskedLM` for masked language models and `AutoModelForSeq2SeqLM` for encoder-decoder models.\n",
      "  warnings.warn(\n"
     ]
    },
    {
     "data": {
      "application/vnd.jupyter.widget-view+json": {
       "model_id": "9b74cf5695994c90b517b56ba820e990",
       "version_major": 2,
       "version_minor": 0
      },
      "text/plain": [
       "Downloading:   0%|          | 0.00/263M [00:00<?, ?B/s]"
      ]
     },
     "metadata": {},
     "output_type": "display_data"
    },
    {
     "name": "stdout",
     "output_type": "stream",
     "text": [
      "Distilled models are smaller than the models they mimic. Using them instead of the large versions would help reduce our carbon footprint.\n",
      "Distilled models are smaller than the models they mimic. Using them instead of the large versions would help increase our carbon footprint.\n",
      "Distilled models are smaller than the models they mimic. Using them instead of the large versions would help decrease our carbon footprint.\n",
      "Distilled models are smaller than the models they mimic. Using them instead of the large versions would help offset our carbon footprint.\n",
      "Distilled models are smaller than the models they mimic. Using them instead of the large versions would help improve our carbon footprint.\n"
     ]
    }
   ],
   "source": [
    "from transformers import AutoModelWithLMHead, AutoTokenizer\n",
    "import torch\n",
    "\n",
    "tokenizer = AutoTokenizer.from_pretrained(\"distilbert-base-cased\")\n",
    "model = AutoModelWithLMHead.from_pretrained(\"distilbert-base-cased\")\n",
    "\n",
    "sequence = f\"Distilled models are smaller than the models they mimic. Using them instead of the large versions would help {tokenizer.mask_token} our carbon footprint.\"\n",
    "\n",
    "input = tokenizer.encode(sequence, return_tensors=\"pt\")\n",
    "mask_token_index = torch.where(input == tokenizer.mask_token_id)[1]\n",
    "\n",
    "token_logits = model(input).logits\n",
    "mask_token_logits = token_logits[0, mask_token_index, :]\n",
    "\n",
    "top_5_tokens = torch.topk(mask_token_logits, 5, dim=1).indices[0].tolist()\n",
    "\n",
    "#Top 5 Tokens : \n",
    "\n",
    "for token in top_5_tokens:\n",
    "   print(sequence.replace(tokenizer.mask_token, tokenizer.decode([token])))"
   ]
  },
  {
   "cell_type": "markdown",
   "id": "3bf75ed3",
   "metadata": {},
   "source": [
    "### • Summarization : "
   ]
  },
  {
   "cell_type": "code",
   "execution_count": 11,
   "id": "8aafd68e",
   "metadata": {},
   "outputs": [
    {
     "data": {
      "application/vnd.jupyter.widget-view+json": {
       "model_id": "aaea2f326ab14cb2b50a6eb08e002d48",
       "version_major": 2,
       "version_minor": 0
      },
      "text/plain": [
       "Downloading:   0%|          | 0.00/1.22G [00:00<?, ?B/s]"
      ]
     },
     "metadata": {},
     "output_type": "display_data"
    },
    {
     "data": {
      "application/vnd.jupyter.widget-view+json": {
       "model_id": "f059ed24f9d14e6da8d5d9de14f3851f",
       "version_major": 2,
       "version_minor": 0
      },
      "text/plain": [
       "Downloading:   0%|          | 0.00/26.0 [00:00<?, ?B/s]"
      ]
     },
     "metadata": {},
     "output_type": "display_data"
    },
    {
     "data": {
      "application/vnd.jupyter.widget-view+json": {
       "model_id": "327f5f09b3af4f5ba63dbb88a0d55d95",
       "version_major": 2,
       "version_minor": 0
      },
      "text/plain": [
       "Downloading:   0%|          | 0.00/899k [00:00<?, ?B/s]"
      ]
     },
     "metadata": {},
     "output_type": "display_data"
    },
    {
     "data": {
      "application/vnd.jupyter.widget-view+json": {
       "model_id": "fcc3d97ab6b24851ae1da23124ca4400",
       "version_major": 2,
       "version_minor": 0
      },
      "text/plain": [
       "Downloading:   0%|          | 0.00/456k [00:00<?, ?B/s]"
      ]
     },
     "metadata": {},
     "output_type": "display_data"
    },
    {
     "name": "stdout",
     "output_type": "stream",
     "text": [
      "[{'summary_text': ' Liana Barrientos, 39, is charged with two counts of \"offering a false instrument for filing in the first degree\" In total, she has been married 10 times, nine of them between 1999 and 2002 . She is believed to still be married to four men .'}]\n"
     ]
    }
   ],
   "source": [
    "from transformers import pipeline\n",
    "\n",
    "summarizer = pipeline(\"summarization\")\n",
    "\n",
    "ARTICLE = \"\"\" New York (CNN)When Liana Barrientos was 23 years old, she got married in Westchester County, New York.\n",
    "A year later, she got married again in Westchester County, but to a different man and without divorcing her first husband.\n",
    "Only 18 days after that marriage, she got hitched yet again. Then, Barrientos declared \"I do\" five more times, sometimes only within two weeks of each other.\n",
    "In 2010, she married once more, this time in the Bronx. In an application for a marriage license, she stated it was her \"first and only\" marriage.\n",
    "Barrientos, now 39, is facing two criminal counts of \"offering a false instrument for filing in the first degree,\" referring to her false statements on the\n",
    "2010 marriage license application, according to court documents.\n",
    "Prosecutors said the marriages were part of an immigration scam.\n",
    "On Friday, she pleaded not guilty at State Supreme Court in the Bronx, according to her attorney, Christopher Wright, who declined to comment further.\n",
    "After leaving court, Barrientos was arrested and charged with theft of service and criminal trespass for allegedly sneaking into the New York subway through an emergency exit, said Detective\n",
    "Annette Markowski, a police spokeswoman. In total, Barrientos has been married 10 times, with nine of her marriages occurring between 1999 and 2002.\n",
    "All occurred either in Westchester County, Long Island, New Jersey or the Bronx. She is believed to still be married to four men, and at one time, she was married to eight men at once, prosecutors say.\n",
    "Prosecutors said the immigration scam involved some of her husbands, who filed for permanent residence status shortly after the marriages.\n",
    "Any divorces happened only after such filings were approved. It was unclear whether any of the men will be prosecuted.\n",
    "The case was referred to the Bronx District Attorney\\'s Office by Immigration and Customs Enforcement and the Department of Homeland Security\\'s\n",
    "Investigation Division. Seven of the men are from so-called \"red-flagged\" countries, including Egypt, Turkey, Georgia, Pakistan and Mali.\n",
    "Her eighth husband, Rashid Rajput, was deported in 2006 to his native Pakistan after an investigation by the Joint Terrorism Task Force.\n",
    "If convicted, Barrientos faces up to four years in prison.  Her next court appearance is scheduled for May 18.\"\"\"\n",
    "\n",
    "print(summarizer(ARTICLE, max_length=130, min_length=30, do_sample=False))"
   ]
  },
  {
   "cell_type": "markdown",
   "id": "67ed9708",
   "metadata": {},
   "source": [
    "### • Translation : "
   ]
  },
  {
   "cell_type": "code",
   "execution_count": 2,
   "id": "5df3b582",
   "metadata": {},
   "outputs": [
    {
     "name": "stdout",
     "output_type": "stream",
     "text": [
      "['التحق أحمد بالمدرسة']\n"
     ]
    }
   ],
   "source": [
    "from transformers import MarianTokenizer, MarianMTModel\n",
    "\n",
    "mname = \"marefa-nlp/marefa-mt-en-ar\"\n",
    "\n",
    "tokenizer = MarianTokenizer.from_pretrained(mname)\n",
    "model = MarianMTModel.from_pretrained(mname)\n",
    "\n",
    "# English Sample Text\n",
    "inputs = \"Ahmad went to school\"\n",
    "\n",
    "translated_tokens = model.generate(**tokenizer.prepare_seq2seq_batch([inputs], return_tensors=\"pt\"))\n",
    "translated_text = [tokenizer.decode(t, skip_special_tokens=True) for t in translated_tokens]\n",
    "\n",
    "# translated Arabic Text\n",
    "print(translated_text)"
   ]
  },
  {
   "cell_type": "markdown",
   "id": "a3db3e53",
   "metadata": {},
   "source": [
    "### • Feature extraction :"
   ]
  },
  {
   "cell_type": "code",
   "execution_count": 17,
   "id": "758d1ee6",
   "metadata": {},
   "outputs": [
    {
     "data": {
      "application/vnd.jupyter.widget-view+json": {
       "model_id": "8a7e4e8ce2c841e49985072cef049991",
       "version_major": 2,
       "version_minor": 0
      },
      "text/plain": [
       "Downloading:   0%|          | 0.00/550 [00:00<?, ?B/s]"
      ]
     },
     "metadata": {},
     "output_type": "display_data"
    },
    {
     "data": {
      "application/vnd.jupyter.widget-view+json": {
       "model_id": "a494db908c264494af81f4489f29a1b7",
       "version_major": 2,
       "version_minor": 0
      },
      "text/plain": [
       "Downloading:   0%|          | 0.00/232k [00:00<?, ?B/s]"
      ]
     },
     "metadata": {},
     "output_type": "display_data"
    },
    {
     "data": {
      "application/vnd.jupyter.widget-view+json": {
       "model_id": "c54d616425844bcebc13a74bf8938492",
       "version_major": 2,
       "version_minor": 0
      },
      "text/plain": [
       "Downloading:   0%|          | 0.00/466k [00:00<?, ?B/s]"
      ]
     },
     "metadata": {},
     "output_type": "display_data"
    },
    {
     "data": {
      "application/vnd.jupyter.widget-view+json": {
       "model_id": "6f8888fd3a3643c6a27f6d5e0604b8c4",
       "version_major": 2,
       "version_minor": 0
      },
      "text/plain": [
       "Downloading:   0%|          | 0.00/112 [00:00<?, ?B/s]"
      ]
     },
     "metadata": {},
     "output_type": "display_data"
    },
    {
     "data": {
      "application/vnd.jupyter.widget-view+json": {
       "model_id": "e85abb48e2bd4427aa29908904dd8249",
       "version_major": 2,
       "version_minor": 0
      },
      "text/plain": [
       "Downloading:   0%|          | 0.00/450 [00:00<?, ?B/s]"
      ]
     },
     "metadata": {},
     "output_type": "display_data"
    },
    {
     "data": {
      "application/vnd.jupyter.widget-view+json": {
       "model_id": "f7785bdd55c848368ea1a2d282ce8b61",
       "version_major": 2,
       "version_minor": 0
      },
      "text/plain": [
       "Downloading:   0%|          | 0.00/265M [00:00<?, ?B/s]"
      ]
     },
     "metadata": {},
     "output_type": "display_data"
    },
    {
     "name": "stdout",
     "output_type": "stream",
     "text": [
      "Sentence embeddings: \n",
      "\n",
      "tensor([[-0.6313,  0.0280, -0.4024,  ...,  0.0632, -0.1281, -0.5619],\n",
      "        [-0.5223, -0.2834,  0.7265,  ..., -0.2099, -0.0241, -0.2587]])\n"
     ]
    }
   ],
   "source": [
    "from transformers import AutoTokenizer, AutoModel\n",
    "import torch\n",
    "\n",
    "\n",
    "#Mean Pooling - Take attention mask into account for correct averaging\n",
    "\n",
    "def mean_pooling(model_output, attention_mask):\n",
    "    token_embeddings = model_output[0] #First element of model_output contains all token embeddings\n",
    "    input_mask_expanded = attention_mask.unsqueeze(-1).expand(token_embeddings.size()).float()\n",
    "    return torch.sum(token_embeddings * input_mask_expanded, 1) / torch.clamp(input_mask_expanded.sum(1), min=1e-9)\n",
    "\n",
    "\n",
    "# Sentences we want sentence embeddings for\n",
    "sentences = ['This is an example sentence', 'Each sentence is converted']\n",
    "\n",
    "# Load model from HuggingFace Hub\n",
    "tokenizer = AutoTokenizer.from_pretrained('sentence-transformers/distilbert-base-nli-mean-tokens')\n",
    "model = AutoModel.from_pretrained('sentence-transformers/distilbert-base-nli-mean-tokens')\n",
    "\n",
    "# Tokenize sentences\n",
    "encoded_input = tokenizer(sentences, padding=True, truncation=True, return_tensors='pt')\n",
    "\n",
    "# Compute token embeddings\n",
    "with torch.no_grad():\n",
    "    model_output = model(**encoded_input)\n",
    "\n",
    "# Perform pooling. In this case, max pooling.\n",
    "sentence_embeddings = mean_pooling(model_output, encoded_input['attention_mask'])\n",
    "\n",
    "print(\"Sentence embeddings: \\n\")\n",
    "print(sentence_embeddings)"
   ]
  },
  {
   "cell_type": "markdown",
   "id": "d76857c1",
   "metadata": {},
   "source": [
    "## Reference :\n"
   ]
  },
  {
   "cell_type": "markdown",
   "id": "2e323a06",
   "metadata": {},
   "source": [
    "#### - https://huggingface.co/transformers/v4.1.1/task_summary.html\n",
    "#### - https://huggingface.co/models\n",
    "\n",
    "### Feature extraction :\n",
    "\n",
    "#### - https://huggingface.co/sentence-transformers/distilbert-base-nli-mean-tokens\n",
    "\n",
    "### Translation :\n",
    "\n",
    "#### - https://huggingface.co/marefa-nlp/marefa-mt-en-ar\n",
    "\n",
    "### Filling masked text :\n",
    "\n",
    "#### - https://huggingface.co/distilbert-base-cased\n",
    "\n",
    "### Name entity recognition (NER) :\n",
    "\n",
    "#### - EN : - https://huggingface.co/dbmdz/bert-large-cased-finetuned-conll03-english\n",
    "#### - AR : - https://huggingface.co/hatmimoha/arabic-ner \n",
    "\n",
    "### Text generation : \n",
    "\n",
    "#### - EN : - https://huggingface.co/xlnet-base-cased\n",
    "#### - AR : - https://huggingface.co/mofawzy/gpt2-arabic-sentence-generator\n",
    "\n",
    "### Sentiment analysis : \n",
    "\n",
    "#### - https://huggingface.co/nlptown/bert-base-multilingual-uncased-sentiment\n"
   ]
  },
  {
   "cell_type": "code",
   "execution_count": null,
   "id": "a279a222",
   "metadata": {},
   "outputs": [],
   "source": []
  }
 ],
 "metadata": {
  "kernelspec": {
   "display_name": "Python 3 (ipykernel)",
   "language": "python",
   "name": "python3"
  },
  "language_info": {
   "codemirror_mode": {
    "name": "ipython",
    "version": 3
   },
   "file_extension": ".py",
   "mimetype": "text/x-python",
   "name": "python",
   "nbconvert_exporter": "python",
   "pygments_lexer": "ipython3",
   "version": "3.9.6"
  }
 },
 "nbformat": 4,
 "nbformat_minor": 5
}
